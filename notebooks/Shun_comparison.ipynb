{
 "cells": [
  {
   "cell_type": "code",
   "execution_count": 1,
   "metadata": {
    "collapsed": true
   },
   "outputs": [],
   "source": [
    "#add project directory to python path\n",
    "import sys\n",
    "sys.path.append(\"..\")\n",
    "#import standard packages\n",
    "import numpy as np\n",
    "import matplotlib.pyplot as plt\n",
    "from __future__ import print_function, division\n",
    "%matplotlib inline\n",
    "from default import PROJECT_DIRECTORY, DATA_DIRECTORY"
   ]
  },
  {
   "cell_type": "code",
   "execution_count": 32,
   "metadata": {
    "collapsed": false
   },
   "outputs": [
    {
     "name": "stdout",
     "output_type": "stream",
     "text": [
      "('id', 'x', 'y', 'z', 'v5%_x', 'v5%_y', 'v5%_z', 'v10%_x', 'v10%_y', 'v10%_z', 'v15%_x', 'v15%_y', 'v15%_z', 'v20%_x', 'v20%_y', 'v20%_z', 'v25%_x', 'v25%_y', 'v25%_z', 'v33%_x', 'v33%_y', 'v33%_z', 'v50%_x', 'v50%_y', 'v50%_z', 'v100%_x', 'v100%_y', 'v100%_z')\n"
     ]
    }
   ],
   "source": [
    "from astropy.io import fits\n",
    "from astropy.table import Table\n",
    "\n",
    "filepath = DATA_DIRECTORY\n",
    "filename = 'hlist_0.76660.list.all.Vpeakcut160.0.corevel.reorg.fits'\n",
    "hdulist = fits.open(filepath + filename)\n",
    "\n",
    "halo_table = Table(np.array(hdulist[1].data))\n",
    "print(halo_table.dtype.names)\n",
    "\n",
    "from astropy.cosmology import FlatLambdaCDM\n",
    "cosmo = FlatLambdaCDM(H0=70, Om0=0.307115) #MDR1 cosmology"
   ]
  },
  {
   "cell_type": "code",
   "execution_count": 34,
   "metadata": {
    "collapsed": false
   },
   "outputs": [
    {
     "name": "stdout",
     "output_type": "stream",
     "text": [
      "('row_id', 'rockstarId', 'pId', 'upId', 'x', 'y', 'z', 'vx', 'vy', 'vz', 'Mvir', 'Vmax')\n"
     ]
    }
   ],
   "source": [
    "filepath = DATA_DIRECTORY\n",
    "filename = 'MDPL2_ROCKSTAR_Haloes_0.7666_mvir_cut.csv'\n",
    "halo_table_sup = Table.read(filepath + filename, format='ascii.csv')\n",
    "print(halo_table_sup.dtype.names)"
   ]
  },
  {
   "cell_type": "code",
   "execution_count": 35,
   "metadata": {
    "collapsed": false
   },
   "outputs": [],
   "source": [
    "from halotools.utils import crossmatch\n",
    "\n",
    "inds1, inds2 = crossmatch(halo_table_sup['rockstarId'], halo_table['id'])\n",
    "\n",
    "halo_table['mass'] = 1.0\n",
    "halo_table['mass'][inds2] = halo_table_sup['Mvir'][inds1]"
   ]
  },
  {
   "cell_type": "code",
   "execution_count": 43,
   "metadata": {
    "collapsed": false
   },
   "outputs": [
    {
     "data": {
      "image/png": "[encoded data removed]",
      "text/plain": [
       "<matplotlib.figure.Figure at 0x2dfb51390>"
      ]
     },
     "metadata": {},
     "output_type": "display_data"
    }
   ],
   "source": [
    "core_velocity_key = 'v10%_z'\n",
    "bluk_velocity_key = 'v100%_z'\n",
    "\n",
    "dv = halo_table[core_velocity_key]-halo_table[bluk_velocity_key]\n",
    "\n",
    "#define halo mass bins\n",
    "mass_bins = np.arange(13,15.2,0.2)\n",
    "mass_bin_centers = (mass_bins[:-1]+mass_bins[1:])/2.0\n",
    "mass_bins = 10**mass_bins\n",
    "mass_bin_centers = 10**mass_bin_centers \n",
    "\n",
    "#bin haloes by mass\n",
    "inds = np.digitize(halo_table['mass'], bins=mass_bins)\n",
    "\n",
    "#run through halo mass bins and calculate distribution of v_bulk-v_core\n",
    "from matplotlib import cm \n",
    "fig, ax = plt.subplots(nrows=1, ncols=1, sharex=False, sharey=True, figsize=(3.3,3.3))\n",
    "fig.subplots_adjust(hspace=0, wspace=0, left=0.15, right=0.8, bottom=0.2, top=0.9)\n",
    "for i in range(1,len(mass_bins)):\n",
    "    \n",
    "    mask = (inds==i)\n",
    "\n",
    "    dv_sub = dv[mask]\n",
    "    \n",
    "    #calculate cumulative distribution\n",
    "    sorted_dv_sub = np.sort(dv_sub)\n",
    "    N = len(dv_sub)\n",
    "    cum_counts = np.arange(0,N,1)/N\n",
    "    \n",
    "    color = cm.cool(1.0*i/len(mass_bins))\n",
    "    ax.plot(sorted_dv_sub, cum_counts, color=color)\n",
    "ax.set_xlabel(r'$\\Delta v_z ~ [{\\rm km/s}]$')\n",
    "ax.set_ylabel(r'$f(\\leq \\Delta v_z)$')\n",
    "ax.set_xlim([-250,250])\n",
    "ax.set_ylim([0,1])\n",
    "ax.text(-210,0.9,r'${\\rm inner}~ 10\\%$')\n",
    "\n",
    "#colorbar\n",
    "import matplotlib.colors as mcolors\n",
    "dum = np.zeros(len(halo_table))-1\n",
    "p = ax.scatter(dum, dum, c=(halo_table['mass']),\n",
    "               vmin=np.min((mass_bins)),\n",
    "               vmax=np.max((mass_bins)),\n",
    "               lw=0, s=2,cmap='cool', rasterized=True,\n",
    "               norm=mcolors.LogNorm())\n",
    "cbar_ax = fig.add_axes([0.82, 0.2, 0.04, 0.7]) #xmin, ymin, +dx, +dy\n",
    "cbar = fig.colorbar(p, cax=cbar_ax)\n",
    "cbar.set_label(r'$M_{200\\rm m}~h^{-1}M_{\\odot}$')\n",
    "cbar.ax.yaxis.set_tick_params(pad=1)\n",
    "\n",
    "ax_insert = fig.add_axes([0.5, 0.3, 0.25, 0.25])\n",
    "ax_insert.get_yaxis().set_visible(False)\n",
    "ax_insert.set_xlim([-250,250])\n",
    "ax_insert.set_xticks([-200,-100,0,100,200])\n",
    "ax_insert.set_xticklabels(['-200','','0','','200'])\n",
    "ax_insert.tick_params(length=4)\n",
    "ax_insert.xaxis.set_tick_params(pad=3)\n",
    "dv_bins = np.linspace(-250,250,50)\n",
    "dv_bin_centers = (dv_bins[:-1]+dv_bins[1:])/2.0\n",
    "for i in range(1,len(mass_bins)):\n",
    "    \n",
    "    mask = (inds==i)\n",
    "\n",
    "    dv_sub = dv[mask]\n",
    "    \n",
    "    counts = np.histogram(dv_sub, dv_bins)[0]\n",
    "    counts = 1.0*counts/np.sum(mask)\n",
    "    \n",
    "    color = cm.cool(1.0*i/len(mass_bins))\n",
    "    ax_insert.plot(dv_bin_centers, counts, color=color, lw=0.5) \n",
    "\n",
    "plt.show()\n",
    "\n",
    "filepath = PROJECT_DIRECTORY + 'figures/'\n",
    "filename = 'dv_core_dist'\n",
    "fig.savefig(filepath + filename + '.pdf', dpi=300)"
   ]
  },
  {
   "cell_type": "code",
   "execution_count": 36,
   "metadata": {
    "collapsed": false
   },
   "outputs": [],
   "source": [
    "\"\"\"\n",
    "normalize by the virial velocity\n",
    "\"\"\"\n",
    "\n",
    "def virial_velocity(mass, cosmo, redshift=0.0):\n",
    "    \"\"\"\n",
    "    virial velocity\n",
    "    \"\"\"\n",
    "    \n",
    "    v_vir = 159.43 * (mass/10**12.0)**(1.0/3.0)\n",
    "    \n",
    "    return v_vir\n",
    "\n",
    "#use 1-component of velocity\n",
    "v_norm = np.sqrt((virial_velocity(halo_table['mass'], cosmo)**2.0/3.0))"
   ]
  },
  {
   "cell_type": "code",
   "execution_count": 44,
   "metadata": {
    "collapsed": false
   },
   "outputs": [
    {
     "name": "stdout",
     "output_type": "stream",
     "text": [
      "1.58489319246e+13 0.364658350333\n",
      "2.51188643151e+13 0.331474370681\n",
      "3.98107170553e+13 0.302235214574\n",
      "6.3095734448e+13 0.276144542072\n",
      "1e+14 0.258328015242\n",
      "1.58489319246e+14 0.247386227808\n",
      "2.51188643151e+14 0.230468568991\n",
      "3.98107170553e+14 0.223480113107\n",
      "6.3095734448e+14 0.2080532845\n",
      "1e+15 0.246149087835\n"
     ]
    },
    {
     "name": "stderr",
     "output_type": "stream",
     "text": [
      "/anaconda/lib/python2.7/site-packages/IPython/kernel/__main__.py:6: RuntimeWarning: divide by zero encountered in true_divide\n"
     ]
    },
    {
     "data": {
      "image/png": "[encoded data removed]",
      "text/plain": [
       "<matplotlib.figure.Figure at 0x2e3e33bd0>"
      ]
     },
     "metadata": {},
     "output_type": "display_data"
    }
   ],
   "source": [
    "from scipy.stats import laplace\n",
    "\n",
    "core_velocity_key = 'v10%_z'\n",
    "bluk_velocity_key = 'v100%_z'\n",
    "\n",
    "dv_norm = (halo_table[core_velocity_key]-halo_table[bluk_velocity_key])/v_norm\n",
    "\n",
    "#define halo mass bins\n",
    "mass_bins = np.arange(13,15.2,0.2)\n",
    "mass_bins = 10**mass_bins\n",
    "\n",
    "#bin haloes by mass\n",
    "inds = np.digitize(halo_table['mass'], bins=mass_bins)\n",
    "\n",
    "#run through halo mass bins and calculate distribution of v_bulk-v_core\n",
    "from matplotlib import cm \n",
    "fig, ax = plt.subplots(nrows=1, ncols=1, sharex=False, sharey=True, figsize=(3.3,3.3))\n",
    "fig.subplots_adjust(hspace=0, wspace=0, left=0.15, right=0.8, bottom=0.2, top=0.9)\n",
    "x_sample = np.linspace(-1,1,50)\n",
    "for i in range(1,len(mass_bins)):\n",
    "    \n",
    "    mask = (inds==i)\n",
    "\n",
    "    dv_norm_sub = dv_norm[mask]\n",
    "    scale = np.std(dv_norm_sub)/np.sqrt(2)\n",
    "    print(mass_bins[i], scale)\n",
    "    \n",
    "    #calculate cumulative distribution\n",
    "    sorted_dv_norm_sub = np.sort(dv_norm_sub)\n",
    "    N = len(dv_norm_sub)\n",
    "    cum_counts = np.arange(0,N,1)/N\n",
    "    \n",
    "    color = cm.cool(1.0*i/len(mass_bins))\n",
    "    ax.plot(sorted_dv_norm_sub, cum_counts, color=color)\n",
    "    #ax.plot(x_sample , laplace.cdf(x_sample, loc=0.0, scale=scale),  'o', color='black', ms=2, mec='none')\n",
    "ax.set_xlabel(r'$X \\equiv \\sqrt{3} \\Delta v_z/v_{\\rm vir}$')\n",
    "ax.set_ylabel(r'$f(\\leq X)$')\n",
    "ax.text(-0.9,0.9,r'${\\rm inner}~ 10\\%$')\n",
    "ax.set_xlim([-1,1])\n",
    "ax.set_ylim([0,1])\n",
    "\n",
    "#colorbar\n",
    "import matplotlib.colors as mcolors\n",
    "dum = np.zeros(len(halo_table))-1\n",
    "p = ax.scatter(dum, dum, c=(halo_table['mass']+0.1),\n",
    "               vmin=np.min((mass_bins)),\n",
    "               vmax=np.max((mass_bins)),\n",
    "               lw=0, s=2,cmap='cool', rasterized=True,\n",
    "               norm=mcolors.LogNorm())\n",
    "cbar_ax = fig.add_axes([0.82, 0.2, 0.04, 0.7]) #xmin, ymin, +dx, +dy\n",
    "cbar = fig.colorbar(p, cax=cbar_ax)\n",
    "cbar.set_label(r'$M_{200\\rm m}~h^{-1}M_{\\odot}$')\n",
    "cbar.ax.yaxis.set_tick_params(pad=1)\n",
    "\n",
    "plt.show()\n",
    "\n",
    "filepath = PROJECT_DIRECTORY + 'figures/'\n",
    "filename = 'dv_core_dist_norm'\n",
    "fig.savefig(filepath + filename + '.pdf', dpi=300)"
   ]
  },
  {
   "cell_type": "code",
   "execution_count": null,
   "metadata": {
    "collapsed": true
   },
   "outputs": [],
   "source": []
  }
 ],
 "metadata": {
  "kernelspec": {
   "display_name": "Python 2",
   "language": "python",
   "name": "python2"
  },
  "language_info": {
   "codemirror_mode": {
    "name": "ipython",
    "version": 2
   },
   "file_extension": ".py",
   "mimetype": "text/x-python",
   "name": "python",
   "nbconvert_exporter": "python",
   "pygments_lexer": "ipython2",
   "version": "2.7.13"
  }
 },
 "nbformat": 4,
 "nbformat_minor": 0
}
