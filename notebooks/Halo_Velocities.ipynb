{
 "cells": [
  {
   "cell_type": "code",
   "execution_count": 1,
   "metadata": {
    "collapsed": true
   },
   "outputs": [],
   "source": [
    "#add project directory to python path\n",
    "import sys\n",
    "sys.path.append(\"..\")\n",
    "#import standard packages\n",
    "import numpy as np\n",
    "import matplotlib.pyplot as plt\n",
    "from __future__ import print_function, division\n",
    "%matplotlib inline\n",
    "from default import PROJECT_DIRECTORY, DATA_DIRECTORY"
   ]
  },
  {
   "cell_type": "markdown",
   "metadata": {},
   "source": [
    "# Halo Velocities"
   ]
  },
  {
   "cell_type": "markdown",
   "metadata": {},
   "source": [
    "## Load Simulation"
   ]
  },
  {
   "cell_type": "code",
   "execution_count": 8,
   "metadata": {
    "collapsed": false
   },
   "outputs": [
    {
     "name": "stdout",
     "output_type": "stream",
     "text": [
      "['vx_inner50', 'vx_inner70', 'rowid', 'vz_inner30', 'vy_inner50', 'vz_inner70', 'vy_inner10', 'vz_inner50', 'vy_inner70', 'vy_inner30', 'vx_inner90', 'haloid', 'vx', 'vy', 'vz', 'vx_central_ptcl', 'size', 'vz_std', 'vy_inner90', 'vz_inner80', 'vz_all', 'vx_inner20', 'vx_inner60', 'vx_inner01', 'vx_std', 'vy_inner40', 'vx_inner40', 'vz_inner40', 'vz_inner20', 'vz_inner60', 'vz_central_ptcl', 'vy_inner60', 'vy_all', 'vz_inner10', 'vy_central_ptcl', 'vx_inner80', 'vy_std', 'vz_inner90', 'vx_all', 'vy_inner80', 'vy_inner20', 'vx_inner30', 'mass', 'vz_inner01', 'y', 'x', 'z', 'vx_inner10', 'vy_inner01']\n"
     ]
    }
   ],
   "source": [
    "\"\"\"\n",
    "load halo catalogue\n",
    "\"\"\"\n",
    "import h5py\n",
    "from astropy.table import Table\n",
    "\n",
    "filepath = DATA_DIRECTORY\n",
    "filename = 'mdr1_fof_va.hdf5'\n",
    "f = h5py.File(filepath+filename,'r')\n",
    "dset = f['data']\n",
    "d = {key: dset[key] for key in dset.dtype.names}\n",
    "halo_table = Table(d)\n",
    "print(halo_table.keys())"
   ]
  },
  {
   "cell_type": "markdown",
   "metadata": {},
   "source": [
    "## Bulk vs. Core Velocity Distribution"
   ]
  },
  {
   "cell_type": "code",
   "execution_count": 23,
   "metadata": {
    "collapsed": false
   },
   "outputs": [
    {
     "data": {
      "image/png": "[encoded data removed]",
      "text/plain": [
       "<matplotlib.figure.Figure at 0x12ba47d10>"
      ]
     },
     "metadata": {},
     "output_type": "display_data"
    }
   ],
   "source": [
    "core_velocity_key = 'vz_inner10'\n",
    "bluk_velocity_key = 'vz_all'\n",
    "\n",
    "dv = halo_table[core_velocity_key]-halo_table[bluk_velocity_key]\n",
    "\n",
    "#define halo mass bins\n",
    "mass_bins = np.arange(13,15.0,0.2)\n",
    "mass_bins = 10**mass_bins\n",
    "\n",
    "#bin haloes by mass\n",
    "inds = np.digitize(halo_table['mass'], bins=mass_bins)\n",
    "\n",
    "#run through halo mass bins and calculate distribution of v_bulk-v_core\n",
    "from matplotlib import cm \n",
    "fig, ax = plt.subplots(nrows=1, ncols=1, sharex=False, sharey=True, figsize=(3.3,3.3))\n",
    "fig.subplots_adjust(hspace=0, wspace=0, left=0.2, right=0.9, bottom=0.2, top=0.9)\n",
    "axes = axes.flatten()\n",
    "for i in range(1,len(mass_bins)):\n",
    "    \n",
    "    mask = (inds==i)\n",
    "\n",
    "    dv_sub = dv[mask]\n",
    "    \n",
    "    #calculate cumulative distribution\n",
    "    sorted_dv_sub = np.sort(dv_sub)\n",
    "    N = len(dv_sub)\n",
    "    cum_counts = np.arange(0,N,1)/N\n",
    "    \n",
    "    color = cm.cool(1.0*i/len(mass_bins))\n",
    "    ax.plot(sorted_dv_sub, cum_counts, color=color)\n",
    "ax.set_xlabel(r'$\\Delta v_z ~ [{\\rm km/s}]$')\n",
    "ax.set_ylabel(r'$f(\\leq \\Delta v_z)$')\n",
    "ax.set_xlim([-250,250])\n",
    "plt.show()"
   ]
  },
  {
   "cell_type": "code",
   "execution_count": 24,
   "metadata": {
    "collapsed": true
   },
   "outputs": [],
   "source": [
    "\"\"\"\n",
    "normalize by the virial velocity\n",
    "\"\"\"\n",
    "\n",
    "from astropy.constants import G\n",
    "G_const = G.to('pc km^2 / (Msun*s^2)').value\n",
    "v_norm = np.sqrt(halos['mass']*G_const/(halos['size']*10**6))*1.0/np.sqrt(3.0)"
   ]
  },
  {
   "cell_type": "code",
   "execution_count": 52,
   "metadata": {
    "collapsed": false
   },
   "outputs": [
    {
     "name": "stdout",
     "output_type": "stream",
     "text": [
      "0.139125203313\n",
      "0.134895360365\n",
      "0.132891443257\n",
      "0.132520476658\n",
      "0.134912412956\n",
      "0.134549419944\n",
      "0.134580222696\n",
      "0.130864444803\n",
      "0.139455234839\n"
     ]
    },
    {
     "data": {
      "image/png": "[encoded data removed]",
      "text/plain": [
       "<matplotlib.figure.Figure at 0x126015c90>"
      ]
     },
     "metadata": {},
     "output_type": "display_data"
    }
   ],
   "source": [
    "core_velocity_key = 'vz_inner10'\n",
    "bluk_velocity_key = 'vz_all'\n",
    "\n",
    "dv_norm = (halo_table[core_velocity_key]-halo_table[bluk_velocity_key])/v_norm\n",
    "\n",
    "#define halo mass bins\n",
    "mass_bins = np.arange(13,15.0,0.2)\n",
    "mass_bins = 10**mass_bins\n",
    "\n",
    "#bin haloes by mass\n",
    "inds = np.digitize(halo_table['mass'], bins=mass_bins)\n",
    "\n",
    "#run through halo mass bins and calculate distribution of v_bulk-v_core\n",
    "from matplotlib import cm \n",
    "fig, ax = plt.subplots(nrows=1, ncols=1, sharex=False, sharey=True, figsize=(3.3,3.3))\n",
    "fig.subplots_adjust(hspace=0, wspace=0, left=0.2, right=0.9, bottom=0.2, top=0.9)\n",
    "axes = axes.flatten()\n",
    "x_sample = np.linspace(-1,1,50)\n",
    "for i in range(1,len(mass_bins)):\n",
    "    \n",
    "    mask = (inds==i)\n",
    "\n",
    "    dv_norm_sub = dv_norm[mask]\n",
    "    scale = np.std(dv_norm_sub)/np.sqrt(2)\n",
    "    print(scale)\n",
    "    \n",
    "    #calculate cumulative distribution\n",
    "    sorted_dv_norm_sub = np.sort(dv_norm_sub)\n",
    "    N = len(dv_norm_sub)\n",
    "    cum_counts = np.arange(0,N,1)/N\n",
    "    \n",
    "    color = cm.cool(1.0*i/len(mass_bins))\n",
    "    ax.plot(sorted_dv_norm_sub, cum_counts, color=color)\n",
    "    ax.plot(x_sample , laplace.cdf(x_sample, loc=0.0, scale=scale),  'o', color='black', ms=2, mec='none')\n",
    "ax.set_xlabel(r'$X \\equiv \\sqrt{3} \\Delta v_z/v_{\\rm vir}$')\n",
    "ax.set_ylabel(r'$f(\\leq X)$')\n",
    "ax.set_xlim([-1,1])\n",
    "plt.show()"
   ]
  },
  {
   "cell_type": "code",
   "execution_count": 36,
   "metadata": {
    "collapsed": true
   },
   "outputs": [],
   "source": []
  },
  {
   "cell_type": "code",
   "execution_count": null,
   "metadata": {
    "collapsed": true
   },
   "outputs": [],
   "source": []
  }
 ],
 "metadata": {
  "kernelspec": {
   "display_name": "Python 2",
   "language": "python",
   "name": "python2"
  },
  "language_info": {
   "codemirror_mode": {
    "name": "ipython",
    "version": 2
   },
   "file_extension": ".py",
   "mimetype": "text/x-python",
   "name": "python",
   "nbconvert_exporter": "python",
   "pygments_lexer": "ipython2",
   "version": "2.7.13"
  }
 },
 "nbformat": 4,
 "nbformat_minor": 0
}
