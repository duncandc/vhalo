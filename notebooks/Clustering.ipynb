{
 "cells": [
  {
   "cell_type": "code",
   "execution_count": 1,
   "metadata": {
    "collapsed": true
   },
   "outputs": [],
   "source": [
    "#add project directory to python path\n",
    "import sys\n",
    "sys.path.append(\"..\")\n",
    "#import standard packages\n",
    "import numpy as np\n",
    "import matplotlib.pyplot as plt\n",
    "from __future__ import print_function, division\n",
    "%matplotlib inline\n",
    "from default import PROJECT_DIRECTORY, DATA_DIRECTORY"
   ]
  },
  {
   "cell_type": "markdown",
   "metadata": {},
   "source": [
    "# Clustering"
   ]
  },
  {
   "cell_type": "code",
   "execution_count": 3,
   "metadata": {
    "collapsed": false
   },
   "outputs": [
    {
     "name": "stdout",
     "output_type": "stream",
     "text": [
      "['vx_inner50', 'vx_inner70', 'rowid', 'vz_inner30', 'vy_inner50', 'vz_inner70', 'vy_inner10', 'vz_inner50', 'vy_inner70', 'vy_inner30', 'vx_inner90', 'haloid', 'vx', 'vy', 'vz', 'vx_central_ptcl', 'size', 'vz_std', 'vy_inner90', 'vz_inner80', 'vz_all', 'vx_inner20', 'vx_inner60', 'vx_inner01', 'vx_std', 'vy_inner40', 'vx_inner40', 'vz_inner40', 'vz_inner20', 'vz_inner60', 'vz_central_ptcl', 'vy_inner60', 'vy_all', 'vz_inner10', 'vy_central_ptcl', 'vx_inner80', 'vy_std', 'vz_inner90', 'vx_all', 'vy_inner80', 'vy_inner20', 'vx_inner30', 'mass', 'vz_inner01', 'y', 'x', 'z', 'vx_inner10', 'vy_inner01']\n"
     ]
    }
   ],
   "source": [
    "\"\"\"\n",
    "load halo catalogue\n",
    "\"\"\"\n",
    "import h5py\n",
    "from astropy.table import Table\n",
    "\n",
    "filepath = DATA_DIRECTORY\n",
    "filename = 'mdr1_fof_va.hdf5'\n",
    "f = h5py.File(filepath+filename,'r')\n",
    "dset = f['data']\n",
    "d = {key: dset[key] for key in dset.dtype.names}\n",
    "halo_table = Table(d)\n",
    "print(halo_table.keys())\n",
    "\n",
    "from astropy.cosmology import FlatLambdaCDM\n",
    "cosmo = FlatLambdaCDM(H0=70, Om0=0.27) #MDR1 cosmology\n",
    "Lbox = np.array([1000.0]*3)\n",
    "\n",
    "m_part = 8.721*10**9 #particle mass\n",
    "n_part = int(10**13/m_part) #number of particles in 10^13 Msol halo\n",
    "\n",
    "#use z-component of velocities\n",
    "core_keys = ['vz_central_ptcl','vz_inner01','vz_inner10',\n",
    "             'vz_inner20','vz_inner30','vz_inner40',\n",
    "             'vz_inner50','vz_inner60','vz_inner70',\n",
    "             'vz_inner80','vz_inner90']\n",
    "cores = np.array([1/n_part,0.01,0.1,0.2,0.3,0.4,0.5,0.6,0.7,0.8,0.9])"
   ]
  },
  {
   "cell_type": "code",
   "execution_count": 4,
   "metadata": {
    "collapsed": true
   },
   "outputs": [],
   "source": [
    "\"\"\"\n",
    "put the haloes in redshift space\n",
    "\"\"\"\n",
    "\n",
    "from halotools.mock_observables import return_xyz_formatted_array\n",
    "from halotools.mock_observables import s_mu_tpcf\n",
    "\n",
    "halo_velocity_key = 'vz_inner10'\n",
    "\n",
    "coords = return_xyz_formatted_array(halo_table['x'],halo_table['y'],halo_table['z'],\n",
    "                                    velocity=halo_table[halo_velocity_key],\n",
    "                                    period=Lbox, velocity_distortion_dimension='z')"
   ]
  },
  {
   "cell_type": "code",
   "execution_count": 5,
   "metadata": {
    "collapsed": false
   },
   "outputs": [
    {
     "name": "stdout",
     "output_type": "stream",
     "text": [
      "time to compute:  12.3338830471\n"
     ]
    }
   ],
   "source": [
    "\"\"\"\n",
    "calculate the tpcf in s and mu bins\n",
    "\"\"\"\n",
    "\n",
    "#Define s bins\n",
    "s_bins = np.logspace(0,np.log10(75),40)\n",
    "s_bin_centers = (s_bins[:-1]+s_bins[1:])/(2.0)\n",
    "\n",
    "#Define mu bins\n",
    "mu_bins = np.linspace(0.0,1.0,100) \n",
    "mu_bin_centers = (mu_bins[:-1]+mu_bins[1:])/(2.0)\n",
    "    \n",
    "#Calculate TPCF\n",
    "import time\n",
    "start = time.time()\n",
    "result = s_mu_tpcf(coords, s_bins=s_bins, mu_bins=mu_bins, period=Lbox, num_threads=4)\n",
    "print(\"time to compute: \", time.time()-start)"
   ]
  },
  {
   "cell_type": "code",
   "execution_count": 7,
   "metadata": {
    "collapsed": true
   },
   "outputs": [],
   "source": [
    "\"\"\"\n",
    "calculate the multipoles of the tpcf\n",
    "\"\"\"\n",
    "\n",
    "from halotools.mock_observables import tpcf_multipole\n",
    "\n",
    "tpcf_l_0 = tpcf_multipole(result, mu_bins, order=0)\n",
    "tpcf_l_2 = tpcf_multipole(result, mu_bins, order=2)\n",
    "tpcf_l_4 = tpcf_multipole(result, mu_bins, order=4)"
   ]
  },
  {
   "cell_type": "code",
   "execution_count": 29,
   "metadata": {
    "collapsed": false
   },
   "outputs": [
    {
     "data": {
      "image/png": "[encoded data removed]",
      "text/plain": [
       "<matplotlib.figure.Figure at 0x12d1655d0>"
      ]
     },
     "metadata": {},
     "output_type": "display_data"
    }
   ],
   "source": [
    "\"\"\"\n",
    "plot the multipoles\n",
    "\"\"\"\n",
    "\n",
    "fig = plt.figure(figsize=(3.3,3.3))\n",
    "fig.subplots_adjust(left=0.2, right=0.9, bottom=0.2, top=0.9)\n",
    "l1, = plt.plot(s_bin_centers, tpcf_l_0*s_bin_centers**2, '-', color='black')\n",
    "l2, = plt.plot(s_bin_centers, tpcf_l_2*s_bin_centers**2, '--', color='black')\n",
    "l3, = plt.plot(s_bin_centers, tpcf_l_4*s_bin_centers**2, ':', color='black')\n",
    "plt.ylabel(r'$s^2\\xi_l$')\n",
    "plt.xlabel(r'$s ~({\\rm Mpc/h})$')\n",
    "plt.xscale('log')\n",
    "plt.xlim([1,100])\n",
    "plt.ylim([-150,150])\n",
    "plt.legend([l1,l2,l3],[r'$l=0$',r'$l=2$',r'$l=4$'], fontsize=10, loc='lower left', frameon=False)\n",
    "plt.text(1.5, 120, halo_velocity_key.split('_')[1], fontsize=10)\n",
    "\n",
    "plt.show()\n",
    "\n",
    "filepath = PROJECT_DIRECTORY + 'figures/'\n",
    "filename = 'multipoles_'+halo_velocity_key\n",
    "fig.savefig(filepath + filename + '.pdf', dpi=300)\n",
    "fig.savefig(filepath + filename + '.png', dpi=300)"
   ]
  },
  {
   "cell_type": "code",
   "execution_count": 30,
   "metadata": {
    "collapsed": false
   },
   "outputs": [],
   "source": [
    "from astropy.table import Table\n",
    "\n",
    "t = Table([s_bin_centers, tpcf_l_0, tpcf_l_2, tpcf_l_4], names=('s', 'l=0', 'l=2', 'l=4'))\n",
    "\n",
    "filepath = '/Users/duncan/Desktop/'\n",
    "filename = 'multipoles_'+halo_velocity_key\n",
    "t.write(filepath + filename + '.dat', format='ascii')"
   ]
  },
  {
   "cell_type": "code",
   "execution_count": null,
   "metadata": {
    "collapsed": true
   },
   "outputs": [],
   "source": []
  }
 ],
 "metadata": {
  "kernelspec": {
   "display_name": "Python 2",
   "language": "python",
   "name": "python2"
  },
  "language_info": {
   "codemirror_mode": {
    "name": "ipython",
    "version": 2
   },
   "file_extension": ".py",
   "mimetype": "text/x-python",
   "name": "python",
   "nbconvert_exporter": "python",
   "pygments_lexer": "ipython2",
   "version": "2.7.13"
  }
 },
 "nbformat": 4,
 "nbformat_minor": 0
}
